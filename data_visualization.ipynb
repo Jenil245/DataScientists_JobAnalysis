{
 "cells": [
  {
   "cell_type": "code",
   "execution_count": 29,
   "metadata": {},
   "outputs": [],
   "source": [
    "import pandas as pd\n",
    "import seaborn as sns\n",
    "import matplotlib.pyplot as plt\n",
    "import plotly.graph_objects as go\n",
    "import plotly.express as px"
   ]
  },
  {
   "cell_type": "code",
   "execution_count": 30,
   "metadata": {},
   "outputs": [],
   "source": [
    "data = pd.read_csv(\"data_scientist_jobinfo.csv\")"
   ]
  },
  {
   "cell_type": "code",
   "execution_count": 31,
   "metadata": {},
   "outputs": [
    {
     "data": {
      "text/html": [
       "<div>\n",
       "<style scoped>\n",
       "    .dataframe tbody tr th:only-of-type {\n",
       "        vertical-align: middle;\n",
       "    }\n",
       "\n",
       "    .dataframe tbody tr th {\n",
       "        vertical-align: top;\n",
       "    }\n",
       "\n",
       "    .dataframe thead th {\n",
       "        text-align: right;\n",
       "    }\n",
       "</style>\n",
       "<table border=\"1\" class=\"dataframe\">\n",
       "  <thead>\n",
       "    <tr style=\"text-align: right;\">\n",
       "      <th></th>\n",
       "      <th>job_title</th>\n",
       "      <th>Location</th>\n",
       "      <th>Sector</th>\n",
       "      <th>Python</th>\n",
       "      <th>R</th>\n",
       "      <th>Scala</th>\n",
       "      <th>Spark</th>\n",
       "      <th>AWS</th>\n",
       "      <th>SQL</th>\n",
       "      <th>Excel</th>\n",
       "      <th>Power_BI</th>\n",
       "      <th>Tableau</th>\n",
       "      <th>Tensorflow</th>\n",
       "      <th>Pytorch</th>\n",
       "      <th>Company_Size</th>\n",
       "      <th>Company_Age</th>\n",
       "    </tr>\n",
       "  </thead>\n",
       "  <tbody>\n",
       "    <tr>\n",
       "      <th>0</th>\n",
       "      <td>Engineer</td>\n",
       "      <td>Winnipeg</td>\n",
       "      <td>Information Technology</td>\n",
       "      <td>1</td>\n",
       "      <td>0</td>\n",
       "      <td>0</td>\n",
       "      <td>0</td>\n",
       "      <td>0</td>\n",
       "      <td>1</td>\n",
       "      <td>1</td>\n",
       "      <td>1</td>\n",
       "      <td>1</td>\n",
       "      <td>0</td>\n",
       "      <td>0</td>\n",
       "      <td>Medium</td>\n",
       "      <td>34</td>\n",
       "    </tr>\n",
       "    <tr>\n",
       "      <th>1</th>\n",
       "      <td>Scientist</td>\n",
       "      <td>Toronto</td>\n",
       "      <td>Information Technology</td>\n",
       "      <td>1</td>\n",
       "      <td>0</td>\n",
       "      <td>0</td>\n",
       "      <td>1</td>\n",
       "      <td>1</td>\n",
       "      <td>1</td>\n",
       "      <td>0</td>\n",
       "      <td>0</td>\n",
       "      <td>0</td>\n",
       "      <td>0</td>\n",
       "      <td>0</td>\n",
       "      <td>Small</td>\n",
       "      <td>7</td>\n",
       "    </tr>\n",
       "    <tr>\n",
       "      <th>2</th>\n",
       "      <td>Scientist</td>\n",
       "      <td>Toronto</td>\n",
       "      <td>Business Services</td>\n",
       "      <td>1</td>\n",
       "      <td>0</td>\n",
       "      <td>1</td>\n",
       "      <td>1</td>\n",
       "      <td>1</td>\n",
       "      <td>1</td>\n",
       "      <td>0</td>\n",
       "      <td>0</td>\n",
       "      <td>0</td>\n",
       "      <td>0</td>\n",
       "      <td>0</td>\n",
       "      <td>Medium</td>\n",
       "      <td>28</td>\n",
       "    </tr>\n",
       "    <tr>\n",
       "      <th>3</th>\n",
       "      <td>Scientist</td>\n",
       "      <td>Vancouver</td>\n",
       "      <td>Information Technology</td>\n",
       "      <td>1</td>\n",
       "      <td>0</td>\n",
       "      <td>1</td>\n",
       "      <td>0</td>\n",
       "      <td>1</td>\n",
       "      <td>0</td>\n",
       "      <td>1</td>\n",
       "      <td>0</td>\n",
       "      <td>0</td>\n",
       "      <td>0</td>\n",
       "      <td>0</td>\n",
       "      <td>Medium</td>\n",
       "      <td>10</td>\n",
       "    </tr>\n",
       "    <tr>\n",
       "      <th>4</th>\n",
       "      <td>Analyst</td>\n",
       "      <td>Waterloo</td>\n",
       "      <td>-1</td>\n",
       "      <td>1</td>\n",
       "      <td>0</td>\n",
       "      <td>0</td>\n",
       "      <td>0</td>\n",
       "      <td>1</td>\n",
       "      <td>1</td>\n",
       "      <td>1</td>\n",
       "      <td>0</td>\n",
       "      <td>0</td>\n",
       "      <td>0</td>\n",
       "      <td>0</td>\n",
       "      <td>Small</td>\n",
       "      <td>-1</td>\n",
       "    </tr>\n",
       "  </tbody>\n",
       "</table>\n",
       "</div>"
      ],
      "text/plain": [
       "   job_title   Location                  Sector  Python  R  Scala  Spark  AWS  \\\n",
       "0   Engineer   Winnipeg  Information Technology       1  0      0      0    0   \n",
       "1  Scientist    Toronto  Information Technology       1  0      0      1    1   \n",
       "2  Scientist    Toronto       Business Services       1  0      1      1    1   \n",
       "3  Scientist  Vancouver  Information Technology       1  0      1      0    1   \n",
       "4    Analyst   Waterloo                      -1       1  0      0      0    1   \n",
       "\n",
       "   SQL  Excel  Power_BI  Tableau  Tensorflow  Pytorch Company_Size  \\\n",
       "0    1      1         1        1           0        0       Medium   \n",
       "1    1      0         0        0           0        0        Small   \n",
       "2    1      0         0        0           0        0       Medium   \n",
       "3    0      1         0        0           0        0       Medium   \n",
       "4    1      1         0        0           0        0        Small   \n",
       "\n",
       "   Company_Age  \n",
       "0           34  \n",
       "1            7  \n",
       "2           28  \n",
       "3           10  \n",
       "4           -1  "
      ]
     },
     "execution_count": 31,
     "metadata": {},
     "output_type": "execute_result"
    }
   ],
   "source": [
    "data.head()"
   ]
  },
  {
   "cell_type": "code",
   "execution_count": 32,
   "metadata": {},
   "outputs": [
    {
     "name": "stdout",
     "output_type": "stream",
     "text": [
      "<class 'pandas.core.frame.DataFrame'>\n",
      "RangeIndex: 532 entries, 0 to 531\n",
      "Data columns (total 16 columns):\n",
      " #   Column        Non-Null Count  Dtype \n",
      "---  ------        --------------  ----- \n",
      " 0   job_title     532 non-null    object\n",
      " 1   Location      532 non-null    object\n",
      " 2   Sector        532 non-null    object\n",
      " 3   Python        532 non-null    int64 \n",
      " 4   R             532 non-null    int64 \n",
      " 5   Scala         532 non-null    int64 \n",
      " 6   Spark         532 non-null    int64 \n",
      " 7   AWS           532 non-null    int64 \n",
      " 8   SQL           532 non-null    int64 \n",
      " 9   Excel         532 non-null    int64 \n",
      " 10  Power_BI      532 non-null    int64 \n",
      " 11  Tableau       532 non-null    int64 \n",
      " 12  Tensorflow    532 non-null    int64 \n",
      " 13  Pytorch       532 non-null    int64 \n",
      " 14  Company_Size  532 non-null    object\n",
      " 15  Company_Age   532 non-null    int64 \n",
      "dtypes: int64(12), object(4)\n",
      "memory usage: 66.6+ KB\n"
     ]
    }
   ],
   "source": [
    "data.info()"
   ]
  },
  {
   "cell_type": "code",
   "execution_count": 88,
   "metadata": {},
   "outputs": [
    {
     "data": {
      "application/vnd.plotly.v1+json": {
       "config": {
        "plotlyServerURL": "https://plot.ly"
       },
       "data": [
        {
         "domain": {
          "x": [
           0,
           1
          ],
          "y": [
           0,
           1
          ]
         },
         "hovertemplate": "job_title=%{label}<extra></extra>",
         "labels": [
          "Engineer",
          "Scientist",
          "Scientist",
          "Scientist",
          "Analyst",
          "Scientist",
          "Scientist",
          "Scientist",
          "Scientist",
          "Scientist",
          "Scientist",
          "Scientist",
          "Scientist",
          "Scientist",
          "Scientist",
          "Scientist",
          "Scientist",
          "Scientist",
          "Scientist",
          "Scientist",
          "Scientist",
          "Scientist",
          "Scientist",
          "Scientist",
          "Scientist",
          "Scientist",
          "Scientist",
          "Scientist",
          "Scientist",
          "Scientist",
          "Scientist",
          "Scientist",
          "Scientist",
          "Scientist",
          "Scientist",
          "Scientist",
          "Scientist",
          "Scientist",
          "Analyst",
          "Scientist",
          "Scientist",
          "Scientist",
          "Scientist",
          "Scientist",
          "Scientist",
          "Scientist",
          "Scientist",
          "Scientist",
          "Scientist",
          "Scientist",
          "Scientist",
          "Scientist",
          "Scientist",
          "Scientist",
          "Scientist",
          "Scientist",
          "Scientist",
          "Scientist",
          "Analyst",
          "Scientist",
          "Scientist",
          "Scientist",
          "Analyst",
          "Engineer",
          "Scientist",
          "Scientist",
          "Scientist",
          "Scientist",
          "Scientist",
          "Scientist",
          "Scientist",
          "Scientist",
          "Scientist",
          "Researcher",
          "Scientist",
          "Scientist",
          "Engineer",
          "Analyst",
          "Scientist",
          "MLE",
          "Scientist",
          "Scientist",
          "Analyst",
          "Engineer",
          "Scientist",
          "MLE",
          "Scientist",
          "Scientist",
          "MLE",
          "Scientist",
          "Scientist",
          "Scientist",
          "Scientist",
          "Scientist",
          "Engineer",
          "Scientist",
          "Engineer",
          "Analyst",
          "Scientist",
          "Engineer",
          "Scientist",
          "Scientist",
          "Scientist",
          "Scientist",
          "Engineer",
          "Researcher",
          "Analyst",
          "Scientist",
          "Scientist",
          "Scientist",
          "Analyst",
          "Scientist",
          "Analyst",
          "Scientist",
          "Engineer",
          "Analyst",
          "Engineer",
          "Engineer",
          "Analyst",
          "Scientist",
          "MLE",
          "Analyst",
          "Director",
          "Scientist",
          "Scientist",
          "Scientist",
          "Scientist",
          "Analyst",
          "MLE",
          "Analyst",
          "MLE",
          "Analyst",
          "Scientist",
          "Analyst",
          "Analyst",
          "Engineer",
          "Scientist",
          "Scientist",
          "Scientist",
          "Scientist",
          "Scientist",
          "Analyst",
          "Scientist",
          "Scientist",
          "MLE",
          "Scientist",
          "Scientist",
          "MLE",
          "Scientist",
          "Scientist",
          "Scientist",
          "Scientist",
          "Scientist",
          "Engineer",
          "Scientist",
          "Scientist",
          "Analyst",
          "MLE",
          "Engineer",
          "Scientist",
          "Scientist",
          "Scientist",
          "Analyst",
          "Scientist",
          "MLE",
          "Scientist",
          "Analyst",
          "Engineer",
          "Analyst",
          "Scientist",
          "Scientist",
          "Engineer",
          "Researcher",
          "Scientist",
          "Engineer",
          "Scientist",
          "Scientist",
          "Scientist",
          "Analyst",
          "Engineer",
          "Analyst",
          "Engineer",
          "Scientist",
          "Engineer",
          "Analyst",
          "Scientist",
          "Scientist",
          "Analyst",
          "Analyst",
          "Engineer",
          "Scientist",
          "Engineer",
          "Scientist",
          "Engineer",
          "Analyst",
          "MLE",
          "MLE",
          "Scientist",
          "Scientist",
          "Scientist",
          "Scientist",
          "MLE",
          "Scientist",
          "Scientist",
          "Analyst",
          "Engineer",
          "Engineer",
          "Engineer",
          "Scientist",
          "Scientist",
          "Scientist",
          "Director",
          "Engineer",
          "Scientist",
          "Engineer",
          "Engineer",
          "Scientist",
          "Analyst",
          "Scientist",
          "Scientist",
          "Director",
          "Engineer",
          "Scientist",
          "Researcher",
          "Scientist",
          "Engineer",
          "Analyst",
          "Analyst",
          "Analyst",
          "MLE",
          "Scientist",
          "Analyst",
          "Engineer",
          "Engineer",
          "Analyst",
          "Engineer",
          "Researcher",
          "Researcher",
          "Analyst",
          "Scientist",
          "Scientist",
          "Scientist",
          "Researcher",
          "Scientist",
          "Analyst",
          "Scientist",
          "Analyst",
          "Analyst",
          "Researcher",
          "Engineer",
          "Director",
          "Analyst",
          "Engineer",
          "Engineer",
          "Engineer",
          "Researcher",
          "Analyst",
          "Analyst",
          "Analyst",
          "MLE",
          "Engineer",
          "Analyst",
          "Scientist",
          "MLE",
          "Analyst",
          "Researcher",
          "Scientist",
          "Analyst",
          "Analyst",
          "Scientist",
          "Engineer",
          "Scientist",
          "Analyst",
          "Analyst",
          "Engineer",
          "Engineer",
          "Engineer",
          "Researcher",
          "Scientist",
          "Analyst",
          "Analyst",
          "Engineer",
          "Analyst",
          "Director",
          "Researcher",
          "Analyst",
          "Analyst",
          "Analyst",
          "Researcher",
          "Analyst",
          "Analyst",
          "Scientist",
          "Engineer",
          "Researcher",
          "Analyst",
          "MLE",
          "Engineer",
          "MLE",
          "Director",
          "Analyst",
          "MLE",
          "Analyst",
          "Analyst",
          "Engineer",
          "Analyst",
          "MLE",
          "Analyst",
          "Engineer",
          "Analyst",
          "Analyst",
          "Analyst",
          "MLE",
          "Analyst",
          "Analyst",
          "Scientist",
          "Engineer",
          "Scientist",
          "Analyst",
          "Engineer",
          "Scientist",
          "Scientist",
          "Scientist",
          "Researcher",
          "Engineer",
          "Analyst",
          "Analyst",
          "Analyst",
          "Engineer",
          "Scientist",
          "Scientist",
          "Scientist",
          "Analyst",
          "Engineer",
          "Engineer",
          "Engineer",
          "Analyst",
          "Scientist",
          "Scientist",
          "Director",
          "Researcher",
          "Engineer",
          "Engineer",
          "Scientist",
          "MLE",
          "Analyst",
          "Engineer",
          "Researcher",
          "Analyst",
          "Analyst",
          "Engineer",
          "Researcher",
          "Analyst",
          "Director",
          "Analyst",
          "Engineer",
          "Director",
          "Researcher",
          "Scientist",
          "Researcher",
          "Analyst",
          "Engineer",
          "Engineer",
          "Analyst",
          "Analyst",
          "Scientist",
          "Analyst",
          "Analyst",
          "Analyst",
          "Engineer",
          "Scientist",
          "Scientist",
          "MLE",
          "Scientist",
          "Scientist",
          "Engineer",
          "Analyst",
          "Engineer",
          "MLE",
          "Engineer",
          "Scientist",
          "Analyst",
          "Engineer",
          "Researcher",
          "Director",
          "Researcher",
          "Scientist",
          "Analyst",
          "Researcher",
          "Scientist",
          "Analyst",
          "Analyst",
          "Analyst",
          "Analyst",
          "Scientist",
          "Engineer",
          "Analyst",
          "Scientist",
          "Scientist",
          "Director",
          "Engineer",
          "Analyst",
          "Researcher",
          "Engineer",
          "Analyst",
          "Scientist",
          "Analyst",
          "Director",
          "Analyst",
          "Analyst",
          "MLE",
          "Engineer",
          "Researcher",
          "Scientist",
          "Researcher",
          "Analyst",
          "Analyst",
          "Scientist",
          "Engineer",
          "Engineer",
          "Engineer",
          "Analyst",
          "Researcher",
          "Researcher",
          "Scientist",
          "Analyst",
          "Scientist",
          "Engineer",
          "Engineer",
          "Scientist",
          "MLE",
          "Engineer",
          "Scientist",
          "Engineer",
          "Engineer",
          "Analyst",
          "Analyst",
          "Researcher",
          "MLE",
          "Scientist",
          "Director",
          "Analyst",
          "Analyst",
          "Analyst",
          "Analyst",
          "Analyst",
          "Analyst",
          "Researcher",
          "Scientist",
          "Engineer",
          "Director",
          "Scientist",
          "Scientist",
          "Analyst",
          "Engineer",
          "Engineer",
          "Director",
          "Engineer",
          "Analyst",
          "Analyst",
          "Researcher",
          "Scientist",
          "Researcher",
          "Scientist",
          "Analyst",
          "Analyst",
          "Engineer",
          "MLE",
          "Scientist",
          "Analyst",
          "Analyst",
          "Analyst",
          "Analyst",
          "Engineer",
          "Scientist",
          "Engineer",
          "Scientist",
          "Director",
          "Analyst",
          "Analyst",
          "Analyst",
          "Analyst",
          "Engineer",
          "MLE",
          "Researcher",
          "Analyst",
          "Analyst",
          "Analyst",
          "Scientist",
          "Analyst",
          "Engineer",
          "Analyst",
          "Researcher",
          "Analyst",
          "Analyst",
          "Engineer",
          "Engineer",
          "Scientist",
          "Analyst",
          "Engineer",
          "Analyst",
          "Engineer",
          "Engineer",
          "Engineer",
          "Researcher",
          "Analyst",
          "Analyst",
          "Analyst",
          "Researcher",
          "Researcher",
          "Researcher",
          "MLE",
          "Scientist",
          "Researcher",
          "Scientist",
          "Scientist",
          "Scientist",
          "Analyst",
          "Researcher",
          "Analyst",
          "Researcher",
          "Engineer",
          "Director",
          "Researcher",
          "Engineer",
          "Scientist",
          "Researcher",
          "Analyst",
          "Scientist",
          "Engineer",
          "MLE",
          "Engineer",
          "Analyst"
         ],
         "legendgroup": "",
         "marker": {
          "line": {
           "color": "#000000",
           "width": 1
          }
         },
         "name": "",
         "pull": [
          0,
          0.2,
          0,
          0,
          0,
          0
         ],
         "showlegend": true,
         "textinfo": "percent+label",
         "textposition": "inside",
         "type": "pie"
        }
       ],
       "layout": {
        "legend": {
         "tracegroupgap": 0
        },
        "piecolorway": [
         "rgb(41, 24, 107)",
         "rgb(42, 35, 160)",
         "rgb(15, 71, 153)",
         "rgb(18, 95, 142)",
         "rgb(38, 116, 137)",
         "rgb(53, 136, 136)",
         "rgb(65, 157, 133)",
         "rgb(81, 178, 124)",
         "rgb(111, 198, 107)",
         "rgb(160, 214, 91)",
         "rgb(212, 225, 112)",
         "rgb(253, 238, 153)"
        ],
        "template": {
         "data": {
          "bar": [
           {
            "error_x": {
             "color": "#2a3f5f"
            },
            "error_y": {
             "color": "#2a3f5f"
            },
            "marker": {
             "line": {
              "color": "#E5ECF6",
              "width": 0.5
             }
            },
            "type": "bar"
           }
          ],
          "barpolar": [
           {
            "marker": {
             "line": {
              "color": "#E5ECF6",
              "width": 0.5
             }
            },
            "type": "barpolar"
           }
          ],
          "carpet": [
           {
            "aaxis": {
             "endlinecolor": "#2a3f5f",
             "gridcolor": "white",
             "linecolor": "white",
             "minorgridcolor": "white",
             "startlinecolor": "#2a3f5f"
            },
            "baxis": {
             "endlinecolor": "#2a3f5f",
             "gridcolor": "white",
             "linecolor": "white",
             "minorgridcolor": "white",
             "startlinecolor": "#2a3f5f"
            },
            "type": "carpet"
           }
          ],
          "choropleth": [
           {
            "colorbar": {
             "outlinewidth": 0,
             "ticks": ""
            },
            "type": "choropleth"
           }
          ],
          "contour": [
           {
            "colorbar": {
             "outlinewidth": 0,
             "ticks": ""
            },
            "colorscale": [
             [
              0,
              "#0d0887"
             ],
             [
              0.1111111111111111,
              "#46039f"
             ],
             [
              0.2222222222222222,
              "#7201a8"
             ],
             [
              0.3333333333333333,
              "#9c179e"
             ],
             [
              0.4444444444444444,
              "#bd3786"
             ],
             [
              0.5555555555555556,
              "#d8576b"
             ],
             [
              0.6666666666666666,
              "#ed7953"
             ],
             [
              0.7777777777777778,
              "#fb9f3a"
             ],
             [
              0.8888888888888888,
              "#fdca26"
             ],
             [
              1,
              "#f0f921"
             ]
            ],
            "type": "contour"
           }
          ],
          "contourcarpet": [
           {
            "colorbar": {
             "outlinewidth": 0,
             "ticks": ""
            },
            "type": "contourcarpet"
           }
          ],
          "heatmap": [
           {
            "colorbar": {
             "outlinewidth": 0,
             "ticks": ""
            },
            "colorscale": [
             [
              0,
              "#0d0887"
             ],
             [
              0.1111111111111111,
              "#46039f"
             ],
             [
              0.2222222222222222,
              "#7201a8"
             ],
             [
              0.3333333333333333,
              "#9c179e"
             ],
             [
              0.4444444444444444,
              "#bd3786"
             ],
             [
              0.5555555555555556,
              "#d8576b"
             ],
             [
              0.6666666666666666,
              "#ed7953"
             ],
             [
              0.7777777777777778,
              "#fb9f3a"
             ],
             [
              0.8888888888888888,
              "#fdca26"
             ],
             [
              1,
              "#f0f921"
             ]
            ],
            "type": "heatmap"
           }
          ],
          "heatmapgl": [
           {
            "colorbar": {
             "outlinewidth": 0,
             "ticks": ""
            },
            "colorscale": [
             [
              0,
              "#0d0887"
             ],
             [
              0.1111111111111111,
              "#46039f"
             ],
             [
              0.2222222222222222,
              "#7201a8"
             ],
             [
              0.3333333333333333,
              "#9c179e"
             ],
             [
              0.4444444444444444,
              "#bd3786"
             ],
             [
              0.5555555555555556,
              "#d8576b"
             ],
             [
              0.6666666666666666,
              "#ed7953"
             ],
             [
              0.7777777777777778,
              "#fb9f3a"
             ],
             [
              0.8888888888888888,
              "#fdca26"
             ],
             [
              1,
              "#f0f921"
             ]
            ],
            "type": "heatmapgl"
           }
          ],
          "histogram": [
           {
            "marker": {
             "colorbar": {
              "outlinewidth": 0,
              "ticks": ""
             }
            },
            "type": "histogram"
           }
          ],
          "histogram2d": [
           {
            "colorbar": {
             "outlinewidth": 0,
             "ticks": ""
            },
            "colorscale": [
             [
              0,
              "#0d0887"
             ],
             [
              0.1111111111111111,
              "#46039f"
             ],
             [
              0.2222222222222222,
              "#7201a8"
             ],
             [
              0.3333333333333333,
              "#9c179e"
             ],
             [
              0.4444444444444444,
              "#bd3786"
             ],
             [
              0.5555555555555556,
              "#d8576b"
             ],
             [
              0.6666666666666666,
              "#ed7953"
             ],
             [
              0.7777777777777778,
              "#fb9f3a"
             ],
             [
              0.8888888888888888,
              "#fdca26"
             ],
             [
              1,
              "#f0f921"
             ]
            ],
            "type": "histogram2d"
           }
          ],
          "histogram2dcontour": [
           {
            "colorbar": {
             "outlinewidth": 0,
             "ticks": ""
            },
            "colorscale": [
             [
              0,
              "#0d0887"
             ],
             [
              0.1111111111111111,
              "#46039f"
             ],
             [
              0.2222222222222222,
              "#7201a8"
             ],
             [
              0.3333333333333333,
              "#9c179e"
             ],
             [
              0.4444444444444444,
              "#bd3786"
             ],
             [
              0.5555555555555556,
              "#d8576b"
             ],
             [
              0.6666666666666666,
              "#ed7953"
             ],
             [
              0.7777777777777778,
              "#fb9f3a"
             ],
             [
              0.8888888888888888,
              "#fdca26"
             ],
             [
              1,
              "#f0f921"
             ]
            ],
            "type": "histogram2dcontour"
           }
          ],
          "mesh3d": [
           {
            "colorbar": {
             "outlinewidth": 0,
             "ticks": ""
            },
            "type": "mesh3d"
           }
          ],
          "parcoords": [
           {
            "line": {
             "colorbar": {
              "outlinewidth": 0,
              "ticks": ""
             }
            },
            "type": "parcoords"
           }
          ],
          "pie": [
           {
            "automargin": true,
            "type": "pie"
           }
          ],
          "scatter": [
           {
            "marker": {
             "colorbar": {
              "outlinewidth": 0,
              "ticks": ""
             }
            },
            "type": "scatter"
           }
          ],
          "scatter3d": [
           {
            "line": {
             "colorbar": {
              "outlinewidth": 0,
              "ticks": ""
             }
            },
            "marker": {
             "colorbar": {
              "outlinewidth": 0,
              "ticks": ""
             }
            },
            "type": "scatter3d"
           }
          ],
          "scattercarpet": [
           {
            "marker": {
             "colorbar": {
              "outlinewidth": 0,
              "ticks": ""
             }
            },
            "type": "scattercarpet"
           }
          ],
          "scattergeo": [
           {
            "marker": {
             "colorbar": {
              "outlinewidth": 0,
              "ticks": ""
             }
            },
            "type": "scattergeo"
           }
          ],
          "scattergl": [
           {
            "marker": {
             "colorbar": {
              "outlinewidth": 0,
              "ticks": ""
             }
            },
            "type": "scattergl"
           }
          ],
          "scattermapbox": [
           {
            "marker": {
             "colorbar": {
              "outlinewidth": 0,
              "ticks": ""
             }
            },
            "type": "scattermapbox"
           }
          ],
          "scatterpolar": [
           {
            "marker": {
             "colorbar": {
              "outlinewidth": 0,
              "ticks": ""
             }
            },
            "type": "scatterpolar"
           }
          ],
          "scatterpolargl": [
           {
            "marker": {
             "colorbar": {
              "outlinewidth": 0,
              "ticks": ""
             }
            },
            "type": "scatterpolargl"
           }
          ],
          "scatterternary": [
           {
            "marker": {
             "colorbar": {
              "outlinewidth": 0,
              "ticks": ""
             }
            },
            "type": "scatterternary"
           }
          ],
          "surface": [
           {
            "colorbar": {
             "outlinewidth": 0,
             "ticks": ""
            },
            "colorscale": [
             [
              0,
              "#0d0887"
             ],
             [
              0.1111111111111111,
              "#46039f"
             ],
             [
              0.2222222222222222,
              "#7201a8"
             ],
             [
              0.3333333333333333,
              "#9c179e"
             ],
             [
              0.4444444444444444,
              "#bd3786"
             ],
             [
              0.5555555555555556,
              "#d8576b"
             ],
             [
              0.6666666666666666,
              "#ed7953"
             ],
             [
              0.7777777777777778,
              "#fb9f3a"
             ],
             [
              0.8888888888888888,
              "#fdca26"
             ],
             [
              1,
              "#f0f921"
             ]
            ],
            "type": "surface"
           }
          ],
          "table": [
           {
            "cells": {
             "fill": {
              "color": "#EBF0F8"
             },
             "line": {
              "color": "white"
             }
            },
            "header": {
             "fill": {
              "color": "#C8D4E3"
             },
             "line": {
              "color": "white"
             }
            },
            "type": "table"
           }
          ]
         },
         "layout": {
          "annotationdefaults": {
           "arrowcolor": "#2a3f5f",
           "arrowhead": 0,
           "arrowwidth": 1
          },
          "coloraxis": {
           "colorbar": {
            "outlinewidth": 0,
            "ticks": ""
           }
          },
          "colorscale": {
           "diverging": [
            [
             0,
             "#8e0152"
            ],
            [
             0.1,
             "#c51b7d"
            ],
            [
             0.2,
             "#de77ae"
            ],
            [
             0.3,
             "#f1b6da"
            ],
            [
             0.4,
             "#fde0ef"
            ],
            [
             0.5,
             "#f7f7f7"
            ],
            [
             0.6,
             "#e6f5d0"
            ],
            [
             0.7,
             "#b8e186"
            ],
            [
             0.8,
             "#7fbc41"
            ],
            [
             0.9,
             "#4d9221"
            ],
            [
             1,
             "#276419"
            ]
           ],
           "sequential": [
            [
             0,
             "#0d0887"
            ],
            [
             0.1111111111111111,
             "#46039f"
            ],
            [
             0.2222222222222222,
             "#7201a8"
            ],
            [
             0.3333333333333333,
             "#9c179e"
            ],
            [
             0.4444444444444444,
             "#bd3786"
            ],
            [
             0.5555555555555556,
             "#d8576b"
            ],
            [
             0.6666666666666666,
             "#ed7953"
            ],
            [
             0.7777777777777778,
             "#fb9f3a"
            ],
            [
             0.8888888888888888,
             "#fdca26"
            ],
            [
             1,
             "#f0f921"
            ]
           ],
           "sequentialminus": [
            [
             0,
             "#0d0887"
            ],
            [
             0.1111111111111111,
             "#46039f"
            ],
            [
             0.2222222222222222,
             "#7201a8"
            ],
            [
             0.3333333333333333,
             "#9c179e"
            ],
            [
             0.4444444444444444,
             "#bd3786"
            ],
            [
             0.5555555555555556,
             "#d8576b"
            ],
            [
             0.6666666666666666,
             "#ed7953"
            ],
            [
             0.7777777777777778,
             "#fb9f3a"
            ],
            [
             0.8888888888888888,
             "#fdca26"
            ],
            [
             1,
             "#f0f921"
            ]
           ]
          },
          "colorway": [
           "#636efa",
           "#EF553B",
           "#00cc96",
           "#ab63fa",
           "#FFA15A",
           "#19d3f3",
           "#FF6692",
           "#B6E880",
           "#FF97FF",
           "#FECB52"
          ],
          "font": {
           "color": "#2a3f5f"
          },
          "geo": {
           "bgcolor": "white",
           "lakecolor": "white",
           "landcolor": "#E5ECF6",
           "showlakes": true,
           "showland": true,
           "subunitcolor": "white"
          },
          "hoverlabel": {
           "align": "left"
          },
          "hovermode": "closest",
          "mapbox": {
           "style": "light"
          },
          "paper_bgcolor": "white",
          "plot_bgcolor": "#E5ECF6",
          "polar": {
           "angularaxis": {
            "gridcolor": "white",
            "linecolor": "white",
            "ticks": ""
           },
           "bgcolor": "#E5ECF6",
           "radialaxis": {
            "gridcolor": "white",
            "linecolor": "white",
            "ticks": ""
           }
          },
          "scene": {
           "xaxis": {
            "backgroundcolor": "#E5ECF6",
            "gridcolor": "white",
            "gridwidth": 2,
            "linecolor": "white",
            "showbackground": true,
            "ticks": "",
            "zerolinecolor": "white"
           },
           "yaxis": {
            "backgroundcolor": "#E5ECF6",
            "gridcolor": "white",
            "gridwidth": 2,
            "linecolor": "white",
            "showbackground": true,
            "ticks": "",
            "zerolinecolor": "white"
           },
           "zaxis": {
            "backgroundcolor": "#E5ECF6",
            "gridcolor": "white",
            "gridwidth": 2,
            "linecolor": "white",
            "showbackground": true,
            "ticks": "",
            "zerolinecolor": "white"
           }
          },
          "shapedefaults": {
           "line": {
            "color": "#2a3f5f"
           }
          },
          "ternary": {
           "aaxis": {
            "gridcolor": "white",
            "linecolor": "white",
            "ticks": ""
           },
           "baxis": {
            "gridcolor": "white",
            "linecolor": "white",
            "ticks": ""
           },
           "bgcolor": "#E5ECF6",
           "caxis": {
            "gridcolor": "white",
            "linecolor": "white",
            "ticks": ""
           }
          },
          "title": {
           "x": 0.05
          },
          "xaxis": {
           "automargin": true,
           "gridcolor": "white",
           "linecolor": "white",
           "ticks": "",
           "title": {
            "standoff": 15
           },
           "zerolinecolor": "white",
           "zerolinewidth": 2
          },
          "yaxis": {
           "automargin": true,
           "gridcolor": "white",
           "linecolor": "white",
           "ticks": "",
           "title": {
            "standoff": 15
           },
           "zerolinecolor": "white",
           "zerolinewidth": 2
          }
         }
        },
        "title": {
         "text": "Job Title"
        }
       }
      },
      "text/html": [
       "<div>\n",
       "        \n",
       "        \n",
       "            <div id=\"0c519054-b9fc-4d96-a343-50b2612049ae\" class=\"plotly-graph-div\" style=\"height:525px; width:100%;\"></div>\n",
       "            <script type=\"text/javascript\">\n",
       "                require([\"plotly\"], function(Plotly) {\n",
       "                    window.PLOTLYENV=window.PLOTLYENV || {};\n",
       "                    \n",
       "                if (document.getElementById(\"0c519054-b9fc-4d96-a343-50b2612049ae\")) {\n",
       "                    Plotly.newPlot(\n",
       "                        '0c519054-b9fc-4d96-a343-50b2612049ae',\n",
       "                        [{\"domain\": {\"x\": [0.0, 1.0], \"y\": [0.0, 1.0]}, \"hovertemplate\": \"job_title=%{label}<extra></extra>\", \"labels\": [\"Engineer\", \"Scientist\", \"Scientist\", \"Scientist\", \"Analyst\", \"Scientist\", \"Scientist\", \"Scientist\", \"Scientist\", \"Scientist\", \"Scientist\", \"Scientist\", \"Scientist\", \"Scientist\", \"Scientist\", \"Scientist\", \"Scientist\", \"Scientist\", \"Scientist\", \"Scientist\", \"Scientist\", \"Scientist\", \"Scientist\", \"Scientist\", \"Scientist\", \"Scientist\", \"Scientist\", \"Scientist\", \"Scientist\", \"Scientist\", \"Scientist\", \"Scientist\", \"Scientist\", \"Scientist\", \"Scientist\", \"Scientist\", \"Scientist\", \"Scientist\", \"Analyst\", \"Scientist\", \"Scientist\", \"Scientist\", \"Scientist\", \"Scientist\", \"Scientist\", \"Scientist\", \"Scientist\", \"Scientist\", \"Scientist\", \"Scientist\", \"Scientist\", \"Scientist\", \"Scientist\", \"Scientist\", \"Scientist\", \"Scientist\", \"Scientist\", \"Scientist\", \"Analyst\", \"Scientist\", \"Scientist\", \"Scientist\", \"Analyst\", \"Engineer\", \"Scientist\", \"Scientist\", \"Scientist\", \"Scientist\", \"Scientist\", \"Scientist\", \"Scientist\", \"Scientist\", \"Scientist\", \"Researcher\", \"Scientist\", \"Scientist\", \"Engineer\", \"Analyst\", \"Scientist\", \"MLE\", \"Scientist\", \"Scientist\", \"Analyst\", \"Engineer\", \"Scientist\", \"MLE\", \"Scientist\", \"Scientist\", \"MLE\", \"Scientist\", \"Scientist\", \"Scientist\", \"Scientist\", \"Scientist\", \"Engineer\", \"Scientist\", \"Engineer\", \"Analyst\", \"Scientist\", \"Engineer\", \"Scientist\", \"Scientist\", \"Scientist\", \"Scientist\", \"Engineer\", \"Researcher\", \"Analyst\", \"Scientist\", \"Scientist\", \"Scientist\", \"Analyst\", \"Scientist\", \"Analyst\", \"Scientist\", \"Engineer\", \"Analyst\", \"Engineer\", \"Engineer\", \"Analyst\", \"Scientist\", \"MLE\", \"Analyst\", \"Director\", \"Scientist\", \"Scientist\", \"Scientist\", \"Scientist\", \"Analyst\", \"MLE\", \"Analyst\", \"MLE\", \"Analyst\", \"Scientist\", \"Analyst\", \"Analyst\", \"Engineer\", \"Scientist\", \"Scientist\", \"Scientist\", \"Scientist\", \"Scientist\", \"Analyst\", \"Scientist\", \"Scientist\", \"MLE\", \"Scientist\", \"Scientist\", \"MLE\", \"Scientist\", \"Scientist\", \"Scientist\", \"Scientist\", \"Scientist\", \"Engineer\", \"Scientist\", \"Scientist\", \"Analyst\", \"MLE\", \"Engineer\", \"Scientist\", \"Scientist\", \"Scientist\", \"Analyst\", \"Scientist\", \"MLE\", \"Scientist\", \"Analyst\", \"Engineer\", \"Analyst\", \"Scientist\", \"Scientist\", \"Engineer\", \"Researcher\", \"Scientist\", \"Engineer\", \"Scientist\", \"Scientist\", \"Scientist\", \"Analyst\", \"Engineer\", \"Analyst\", \"Engineer\", \"Scientist\", \"Engineer\", \"Analyst\", \"Scientist\", \"Scientist\", \"Analyst\", \"Analyst\", \"Engineer\", \"Scientist\", \"Engineer\", \"Scientist\", \"Engineer\", \"Analyst\", \"MLE\", \"MLE\", \"Scientist\", \"Scientist\", \"Scientist\", \"Scientist\", \"MLE\", \"Scientist\", \"Scientist\", \"Analyst\", \"Engineer\", \"Engineer\", \"Engineer\", \"Scientist\", \"Scientist\", \"Scientist\", \"Director\", \"Engineer\", \"Scientist\", \"Engineer\", \"Engineer\", \"Scientist\", \"Analyst\", \"Scientist\", \"Scientist\", \"Director\", \"Engineer\", \"Scientist\", \"Researcher\", \"Scientist\", \"Engineer\", \"Analyst\", \"Analyst\", \"Analyst\", \"MLE\", \"Scientist\", \"Analyst\", \"Engineer\", \"Engineer\", \"Analyst\", \"Engineer\", \"Researcher\", \"Researcher\", \"Analyst\", \"Scientist\", \"Scientist\", \"Scientist\", \"Researcher\", \"Scientist\", \"Analyst\", \"Scientist\", \"Analyst\", \"Analyst\", \"Researcher\", \"Engineer\", \"Director\", \"Analyst\", \"Engineer\", \"Engineer\", \"Engineer\", \"Researcher\", \"Analyst\", \"Analyst\", \"Analyst\", \"MLE\", \"Engineer\", \"Analyst\", \"Scientist\", \"MLE\", \"Analyst\", \"Researcher\", \"Scientist\", \"Analyst\", \"Analyst\", \"Scientist\", \"Engineer\", \"Scientist\", \"Analyst\", \"Analyst\", \"Engineer\", \"Engineer\", \"Engineer\", \"Researcher\", \"Scientist\", \"Analyst\", \"Analyst\", \"Engineer\", \"Analyst\", \"Director\", \"Researcher\", \"Analyst\", \"Analyst\", \"Analyst\", \"Researcher\", \"Analyst\", \"Analyst\", \"Scientist\", \"Engineer\", \"Researcher\", \"Analyst\", \"MLE\", \"Engineer\", \"MLE\", \"Director\", \"Analyst\", \"MLE\", \"Analyst\", \"Analyst\", \"Engineer\", \"Analyst\", \"MLE\", \"Analyst\", \"Engineer\", \"Analyst\", \"Analyst\", \"Analyst\", \"MLE\", \"Analyst\", \"Analyst\", \"Scientist\", \"Engineer\", \"Scientist\", \"Analyst\", \"Engineer\", \"Scientist\", \"Scientist\", \"Scientist\", \"Researcher\", \"Engineer\", \"Analyst\", \"Analyst\", \"Analyst\", \"Engineer\", \"Scientist\", \"Scientist\", \"Scientist\", \"Analyst\", \"Engineer\", \"Engineer\", \"Engineer\", \"Analyst\", \"Scientist\", \"Scientist\", \"Director\", \"Researcher\", \"Engineer\", \"Engineer\", \"Scientist\", \"MLE\", \"Analyst\", \"Engineer\", \"Researcher\", \"Analyst\", \"Analyst\", \"Engineer\", \"Researcher\", \"Analyst\", \"Director\", \"Analyst\", \"Engineer\", \"Director\", \"Researcher\", \"Scientist\", \"Researcher\", \"Analyst\", \"Engineer\", \"Engineer\", \"Analyst\", \"Analyst\", \"Scientist\", \"Analyst\", \"Analyst\", \"Analyst\", \"Engineer\", \"Scientist\", \"Scientist\", \"MLE\", \"Scientist\", \"Scientist\", \"Engineer\", \"Analyst\", \"Engineer\", \"MLE\", \"Engineer\", \"Scientist\", \"Analyst\", \"Engineer\", \"Researcher\", \"Director\", \"Researcher\", \"Scientist\", \"Analyst\", \"Researcher\", \"Scientist\", \"Analyst\", \"Analyst\", \"Analyst\", \"Analyst\", \"Scientist\", \"Engineer\", \"Analyst\", \"Scientist\", \"Scientist\", \"Director\", \"Engineer\", \"Analyst\", \"Researcher\", \"Engineer\", \"Analyst\", \"Scientist\", \"Analyst\", \"Director\", \"Analyst\", \"Analyst\", \"MLE\", \"Engineer\", \"Researcher\", \"Scientist\", \"Researcher\", \"Analyst\", \"Analyst\", \"Scientist\", \"Engineer\", \"Engineer\", \"Engineer\", \"Analyst\", \"Researcher\", \"Researcher\", \"Scientist\", \"Analyst\", \"Scientist\", \"Engineer\", \"Engineer\", \"Scientist\", \"MLE\", \"Engineer\", \"Scientist\", \"Engineer\", \"Engineer\", \"Analyst\", \"Analyst\", \"Researcher\", \"MLE\", \"Scientist\", \"Director\", \"Analyst\", \"Analyst\", \"Analyst\", \"Analyst\", \"Analyst\", \"Analyst\", \"Researcher\", \"Scientist\", \"Engineer\", \"Director\", \"Scientist\", \"Scientist\", \"Analyst\", \"Engineer\", \"Engineer\", \"Director\", \"Engineer\", \"Analyst\", \"Analyst\", \"Researcher\", \"Scientist\", \"Researcher\", \"Scientist\", \"Analyst\", \"Analyst\", \"Engineer\", \"MLE\", \"Scientist\", \"Analyst\", \"Analyst\", \"Analyst\", \"Analyst\", \"Engineer\", \"Scientist\", \"Engineer\", \"Scientist\", \"Director\", \"Analyst\", \"Analyst\", \"Analyst\", \"Analyst\", \"Engineer\", \"MLE\", \"Researcher\", \"Analyst\", \"Analyst\", \"Analyst\", \"Scientist\", \"Analyst\", \"Engineer\", \"Analyst\", \"Researcher\", \"Analyst\", \"Analyst\", \"Engineer\", \"Engineer\", \"Scientist\", \"Analyst\", \"Engineer\", \"Analyst\", \"Engineer\", \"Engineer\", \"Engineer\", \"Researcher\", \"Analyst\", \"Analyst\", \"Analyst\", \"Researcher\", \"Researcher\", \"Researcher\", \"MLE\", \"Scientist\", \"Researcher\", \"Scientist\", \"Scientist\", \"Scientist\", \"Analyst\", \"Researcher\", \"Analyst\", \"Researcher\", \"Engineer\", \"Director\", \"Researcher\", \"Engineer\", \"Scientist\", \"Researcher\", \"Analyst\", \"Scientist\", \"Engineer\", \"MLE\", \"Engineer\", \"Analyst\"], \"legendgroup\": \"\", \"marker\": {\"line\": {\"color\": \"#000000\", \"width\": 1}}, \"name\": \"\", \"pull\": [0, 0.2, 0, 0, 0, 0], \"showlegend\": true, \"textinfo\": \"percent+label\", \"textposition\": \"inside\", \"type\": \"pie\"}],\n",
       "                        {\"legend\": {\"tracegroupgap\": 0}, \"piecolorway\": [\"rgb(41, 24, 107)\", \"rgb(42, 35, 160)\", \"rgb(15, 71, 153)\", \"rgb(18, 95, 142)\", \"rgb(38, 116, 137)\", \"rgb(53, 136, 136)\", \"rgb(65, 157, 133)\", \"rgb(81, 178, 124)\", \"rgb(111, 198, 107)\", \"rgb(160, 214, 91)\", \"rgb(212, 225, 112)\", \"rgb(253, 238, 153)\"], \"template\": {\"data\": {\"bar\": [{\"error_x\": {\"color\": \"#2a3f5f\"}, \"error_y\": {\"color\": \"#2a3f5f\"}, \"marker\": {\"line\": {\"color\": \"#E5ECF6\", \"width\": 0.5}}, \"type\": \"bar\"}], \"barpolar\": [{\"marker\": {\"line\": {\"color\": \"#E5ECF6\", \"width\": 0.5}}, \"type\": \"barpolar\"}], \"carpet\": [{\"aaxis\": {\"endlinecolor\": \"#2a3f5f\", \"gridcolor\": \"white\", \"linecolor\": \"white\", \"minorgridcolor\": \"white\", \"startlinecolor\": \"#2a3f5f\"}, \"baxis\": {\"endlinecolor\": \"#2a3f5f\", \"gridcolor\": \"white\", \"linecolor\": \"white\", \"minorgridcolor\": \"white\", \"startlinecolor\": \"#2a3f5f\"}, \"type\": \"carpet\"}], \"choropleth\": [{\"colorbar\": {\"outlinewidth\": 0, \"ticks\": \"\"}, \"type\": \"choropleth\"}], \"contour\": [{\"colorbar\": {\"outlinewidth\": 0, \"ticks\": \"\"}, \"colorscale\": [[0.0, \"#0d0887\"], [0.1111111111111111, \"#46039f\"], [0.2222222222222222, \"#7201a8\"], [0.3333333333333333, \"#9c179e\"], [0.4444444444444444, \"#bd3786\"], [0.5555555555555556, \"#d8576b\"], [0.6666666666666666, \"#ed7953\"], [0.7777777777777778, \"#fb9f3a\"], [0.8888888888888888, \"#fdca26\"], [1.0, \"#f0f921\"]], \"type\": \"contour\"}], \"contourcarpet\": [{\"colorbar\": {\"outlinewidth\": 0, \"ticks\": \"\"}, \"type\": \"contourcarpet\"}], \"heatmap\": [{\"colorbar\": {\"outlinewidth\": 0, \"ticks\": \"\"}, \"colorscale\": [[0.0, \"#0d0887\"], [0.1111111111111111, \"#46039f\"], [0.2222222222222222, \"#7201a8\"], [0.3333333333333333, \"#9c179e\"], [0.4444444444444444, \"#bd3786\"], [0.5555555555555556, \"#d8576b\"], [0.6666666666666666, \"#ed7953\"], [0.7777777777777778, \"#fb9f3a\"], [0.8888888888888888, \"#fdca26\"], [1.0, \"#f0f921\"]], \"type\": \"heatmap\"}], \"heatmapgl\": [{\"colorbar\": {\"outlinewidth\": 0, \"ticks\": \"\"}, \"colorscale\": [[0.0, \"#0d0887\"], [0.1111111111111111, \"#46039f\"], [0.2222222222222222, \"#7201a8\"], [0.3333333333333333, \"#9c179e\"], [0.4444444444444444, \"#bd3786\"], [0.5555555555555556, \"#d8576b\"], [0.6666666666666666, \"#ed7953\"], [0.7777777777777778, \"#fb9f3a\"], [0.8888888888888888, \"#fdca26\"], [1.0, \"#f0f921\"]], \"type\": \"heatmapgl\"}], \"histogram\": [{\"marker\": {\"colorbar\": {\"outlinewidth\": 0, \"ticks\": \"\"}}, \"type\": \"histogram\"}], \"histogram2d\": [{\"colorbar\": {\"outlinewidth\": 0, \"ticks\": \"\"}, \"colorscale\": [[0.0, \"#0d0887\"], [0.1111111111111111, \"#46039f\"], [0.2222222222222222, \"#7201a8\"], [0.3333333333333333, \"#9c179e\"], [0.4444444444444444, \"#bd3786\"], [0.5555555555555556, \"#d8576b\"], [0.6666666666666666, \"#ed7953\"], [0.7777777777777778, \"#fb9f3a\"], [0.8888888888888888, \"#fdca26\"], [1.0, \"#f0f921\"]], \"type\": \"histogram2d\"}], \"histogram2dcontour\": [{\"colorbar\": {\"outlinewidth\": 0, \"ticks\": \"\"}, \"colorscale\": [[0.0, \"#0d0887\"], [0.1111111111111111, \"#46039f\"], [0.2222222222222222, \"#7201a8\"], [0.3333333333333333, \"#9c179e\"], [0.4444444444444444, \"#bd3786\"], [0.5555555555555556, \"#d8576b\"], [0.6666666666666666, \"#ed7953\"], [0.7777777777777778, \"#fb9f3a\"], [0.8888888888888888, \"#fdca26\"], [1.0, \"#f0f921\"]], \"type\": \"histogram2dcontour\"}], \"mesh3d\": [{\"colorbar\": {\"outlinewidth\": 0, \"ticks\": \"\"}, \"type\": \"mesh3d\"}], \"parcoords\": [{\"line\": {\"colorbar\": {\"outlinewidth\": 0, \"ticks\": \"\"}}, \"type\": \"parcoords\"}], \"pie\": [{\"automargin\": true, \"type\": \"pie\"}], \"scatter\": [{\"marker\": {\"colorbar\": {\"outlinewidth\": 0, \"ticks\": \"\"}}, \"type\": \"scatter\"}], \"scatter3d\": [{\"line\": {\"colorbar\": {\"outlinewidth\": 0, \"ticks\": \"\"}}, \"marker\": {\"colorbar\": {\"outlinewidth\": 0, \"ticks\": \"\"}}, \"type\": \"scatter3d\"}], \"scattercarpet\": [{\"marker\": {\"colorbar\": {\"outlinewidth\": 0, \"ticks\": \"\"}}, \"type\": \"scattercarpet\"}], \"scattergeo\": [{\"marker\": {\"colorbar\": {\"outlinewidth\": 0, \"ticks\": \"\"}}, \"type\": \"scattergeo\"}], \"scattergl\": [{\"marker\": {\"colorbar\": {\"outlinewidth\": 0, \"ticks\": \"\"}}, \"type\": \"scattergl\"}], \"scattermapbox\": [{\"marker\": {\"colorbar\": {\"outlinewidth\": 0, \"ticks\": \"\"}}, \"type\": \"scattermapbox\"}], \"scatterpolar\": [{\"marker\": {\"colorbar\": {\"outlinewidth\": 0, \"ticks\": \"\"}}, \"type\": \"scatterpolar\"}], \"scatterpolargl\": [{\"marker\": {\"colorbar\": {\"outlinewidth\": 0, \"ticks\": \"\"}}, \"type\": \"scatterpolargl\"}], \"scatterternary\": [{\"marker\": {\"colorbar\": {\"outlinewidth\": 0, \"ticks\": \"\"}}, \"type\": \"scatterternary\"}], \"surface\": [{\"colorbar\": {\"outlinewidth\": 0, \"ticks\": \"\"}, \"colorscale\": [[0.0, \"#0d0887\"], [0.1111111111111111, \"#46039f\"], [0.2222222222222222, \"#7201a8\"], [0.3333333333333333, \"#9c179e\"], [0.4444444444444444, \"#bd3786\"], [0.5555555555555556, \"#d8576b\"], [0.6666666666666666, \"#ed7953\"], [0.7777777777777778, \"#fb9f3a\"], [0.8888888888888888, \"#fdca26\"], [1.0, \"#f0f921\"]], \"type\": \"surface\"}], \"table\": [{\"cells\": {\"fill\": {\"color\": \"#EBF0F8\"}, \"line\": {\"color\": \"white\"}}, \"header\": {\"fill\": {\"color\": \"#C8D4E3\"}, \"line\": {\"color\": \"white\"}}, \"type\": \"table\"}]}, \"layout\": {\"annotationdefaults\": {\"arrowcolor\": \"#2a3f5f\", \"arrowhead\": 0, \"arrowwidth\": 1}, \"coloraxis\": {\"colorbar\": {\"outlinewidth\": 0, \"ticks\": \"\"}}, \"colorscale\": {\"diverging\": [[0, \"#8e0152\"], [0.1, \"#c51b7d\"], [0.2, \"#de77ae\"], [0.3, \"#f1b6da\"], [0.4, \"#fde0ef\"], [0.5, \"#f7f7f7\"], [0.6, \"#e6f5d0\"], [0.7, \"#b8e186\"], [0.8, \"#7fbc41\"], [0.9, \"#4d9221\"], [1, \"#276419\"]], \"sequential\": [[0.0, \"#0d0887\"], [0.1111111111111111, \"#46039f\"], [0.2222222222222222, \"#7201a8\"], [0.3333333333333333, \"#9c179e\"], [0.4444444444444444, \"#bd3786\"], [0.5555555555555556, \"#d8576b\"], [0.6666666666666666, \"#ed7953\"], [0.7777777777777778, \"#fb9f3a\"], [0.8888888888888888, \"#fdca26\"], [1.0, \"#f0f921\"]], \"sequentialminus\": [[0.0, \"#0d0887\"], [0.1111111111111111, \"#46039f\"], [0.2222222222222222, \"#7201a8\"], [0.3333333333333333, \"#9c179e\"], [0.4444444444444444, \"#bd3786\"], [0.5555555555555556, \"#d8576b\"], [0.6666666666666666, \"#ed7953\"], [0.7777777777777778, \"#fb9f3a\"], [0.8888888888888888, \"#fdca26\"], [1.0, \"#f0f921\"]]}, \"colorway\": [\"#636efa\", \"#EF553B\", \"#00cc96\", \"#ab63fa\", \"#FFA15A\", \"#19d3f3\", \"#FF6692\", \"#B6E880\", \"#FF97FF\", \"#FECB52\"], \"font\": {\"color\": \"#2a3f5f\"}, \"geo\": {\"bgcolor\": \"white\", \"lakecolor\": \"white\", \"landcolor\": \"#E5ECF6\", \"showlakes\": true, \"showland\": true, \"subunitcolor\": \"white\"}, \"hoverlabel\": {\"align\": \"left\"}, \"hovermode\": \"closest\", \"mapbox\": {\"style\": \"light\"}, \"paper_bgcolor\": \"white\", \"plot_bgcolor\": \"#E5ECF6\", \"polar\": {\"angularaxis\": {\"gridcolor\": \"white\", \"linecolor\": \"white\", \"ticks\": \"\"}, \"bgcolor\": \"#E5ECF6\", \"radialaxis\": {\"gridcolor\": \"white\", \"linecolor\": \"white\", \"ticks\": \"\"}}, \"scene\": {\"xaxis\": {\"backgroundcolor\": \"#E5ECF6\", \"gridcolor\": \"white\", \"gridwidth\": 2, \"linecolor\": \"white\", \"showbackground\": true, \"ticks\": \"\", \"zerolinecolor\": \"white\"}, \"yaxis\": {\"backgroundcolor\": \"#E5ECF6\", \"gridcolor\": \"white\", \"gridwidth\": 2, \"linecolor\": \"white\", \"showbackground\": true, \"ticks\": \"\", \"zerolinecolor\": \"white\"}, \"zaxis\": {\"backgroundcolor\": \"#E5ECF6\", \"gridcolor\": \"white\", \"gridwidth\": 2, \"linecolor\": \"white\", \"showbackground\": true, \"ticks\": \"\", \"zerolinecolor\": \"white\"}}, \"shapedefaults\": {\"line\": {\"color\": \"#2a3f5f\"}}, \"ternary\": {\"aaxis\": {\"gridcolor\": \"white\", \"linecolor\": \"white\", \"ticks\": \"\"}, \"baxis\": {\"gridcolor\": \"white\", \"linecolor\": \"white\", \"ticks\": \"\"}, \"bgcolor\": \"#E5ECF6\", \"caxis\": {\"gridcolor\": \"white\", \"linecolor\": \"white\", \"ticks\": \"\"}}, \"title\": {\"x\": 0.05}, \"xaxis\": {\"automargin\": true, \"gridcolor\": \"white\", \"linecolor\": \"white\", \"ticks\": \"\", \"title\": {\"standoff\": 15}, \"zerolinecolor\": \"white\", \"zerolinewidth\": 2}, \"yaxis\": {\"automargin\": true, \"gridcolor\": \"white\", \"linecolor\": \"white\", \"ticks\": \"\", \"title\": {\"standoff\": 15}, \"zerolinecolor\": \"white\", \"zerolinewidth\": 2}}}, \"title\": {\"text\": \"Job Title\"}},\n",
       "                        {\"responsive\": true}\n",
       "                    ).then(function(){\n",
       "                            \n",
       "var gd = document.getElementById('0c519054-b9fc-4d96-a343-50b2612049ae');\n",
       "var x = new MutationObserver(function (mutations, observer) {{\n",
       "        var display = window.getComputedStyle(gd).display;\n",
       "        if (!display || display === 'none') {{\n",
       "            console.log([gd, 'removed!']);\n",
       "            Plotly.purge(gd);\n",
       "            observer.disconnect();\n",
       "        }}\n",
       "}});\n",
       "\n",
       "// Listen for the removal of the full notebook cells\n",
       "var notebookContainer = gd.closest('#notebook-container');\n",
       "if (notebookContainer) {{\n",
       "    x.observe(notebookContainer, {childList: true});\n",
       "}}\n",
       "\n",
       "// Listen for the clearing of the current output cell\n",
       "var outputEl = gd.closest('.output');\n",
       "if (outputEl) {{\n",
       "    x.observe(outputEl, {childList: true});\n",
       "}}\n",
       "\n",
       "                        })\n",
       "                };\n",
       "                });\n",
       "            </script>\n",
       "        </div>"
      ]
     },
     "metadata": {},
     "output_type": "display_data"
    }
   ],
   "source": [
    "fig = px.pie(data, names='job_title', title='Job Title', color_discrete_sequence=px.colors.sequential.haline)\n",
    "fig.update_traces(textposition='inside', textinfo='percent+label', pull=[0, 0.2, 0, 0, 0, 0],\n",
    "                 marker=dict(line=dict(color='#000000', width=1)))\n",
    "\n",
    "fig.show()"
   ]
  },
  {
   "cell_type": "code",
   "execution_count": null,
   "metadata": {},
   "outputs": [],
   "source": []
  },
  {
   "cell_type": "code",
   "execution_count": null,
   "metadata": {},
   "outputs": [],
   "source": []
  }
 ],
 "metadata": {
  "kernelspec": {
   "display_name": "Python 3",
   "language": "python",
   "name": "python3"
  },
  "language_info": {
   "codemirror_mode": {
    "name": "ipython",
    "version": 3
   },
   "file_extension": ".py",
   "mimetype": "text/x-python",
   "name": "python",
   "nbconvert_exporter": "python",
   "pygments_lexer": "ipython3",
   "version": "3.7.6"
  }
 },
 "nbformat": 4,
 "nbformat_minor": 4
}
